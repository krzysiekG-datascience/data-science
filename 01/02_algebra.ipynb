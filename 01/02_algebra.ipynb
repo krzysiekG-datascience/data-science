{
  "nbformat": 4,
  "nbformat_minor": 0,
  "metadata": {
    "colab": {
      "provenance": [],
      "authorship_tag": "ABX9TyOMu0yukcwtdh938V0VaNSG",
      "include_colab_link": true
    },
    "kernelspec": {
      "name": "python3",
      "display_name": "Python 3"
    },
    "language_info": {
      "name": "python"
    }
  },
  "cells": [
    {
      "cell_type": "markdown",
      "metadata": {
        "id": "view-in-github",
        "colab_type": "text"
      },
      "source": [
        "<a href=\"https://colab.research.google.com/github/krzysiekG-datascience/data-science/blob/main/01/02_algebra.ipynb\" target=\"_parent\"><img src=\"https://colab.research.google.com/assets/colab-badge.svg\" alt=\"Open In Colab\"/></a>"
      ]
    },
    {
      "cell_type": "code",
      "execution_count": 1,
      "metadata": {
        "id": "XakDbGpZVUHW"
      },
      "outputs": [],
      "source": [
        "import numpy as np"
      ]
    },
    {
      "cell_type": "code",
      "source": [
        "v1 = np.array([3, 4])"
      ],
      "metadata": {
        "id": "AeJIeu4xVW6_"
      },
      "execution_count": 8,
      "outputs": []
    },
    {
      "cell_type": "code",
      "source": [
        "v1"
      ],
      "metadata": {
        "colab": {
          "base_uri": "https://localhost:8080/"
        },
        "id": "NRjZjTw3VeeG",
        "outputId": "89ac262d-a45a-401d-c9d4-0c928ab12b9c"
      },
      "execution_count": 9,
      "outputs": [
        {
          "output_type": "execute_result",
          "data": {
            "text/plain": [
              "array([3, 4])"
            ]
          },
          "metadata": {},
          "execution_count": 9
        }
      ]
    },
    {
      "cell_type": "code",
      "source": [
        "np.linalg.norm(v1)"
      ],
      "metadata": {
        "colab": {
          "base_uri": "https://localhost:8080/"
        },
        "id": "aYH2epn1Ve-O",
        "outputId": "3b5eeb2d-0556-4576-e5cd-58568482f58c"
      },
      "execution_count": 10,
      "outputs": [
        {
          "output_type": "execute_result",
          "data": {
            "text/plain": [
              "5.0"
            ]
          },
          "metadata": {},
          "execution_count": 10
        }
      ]
    },
    {
      "cell_type": "code",
      "source": [
        "v2 = np.array([-10, 10, 13])\n",
        "np.linalg.norm(v2)"
      ],
      "metadata": {
        "colab": {
          "base_uri": "https://localhost:8080/"
        },
        "id": "r6b-WeIAVhOW",
        "outputId": "b280328c-4207-41de-a315-7254ffd15b77"
      },
      "execution_count": 11,
      "outputs": [
        {
          "output_type": "execute_result",
          "data": {
            "text/plain": [
              "19.209372712298546"
            ]
          },
          "metadata": {},
          "execution_count": 11
        }
      ]
    },
    {
      "cell_type": "code",
      "source": [
        "p = np.array([3, 0])\n",
        "q = np.array([0, 4])\n",
        "\n",
        "np.linalg.norm(p - q)"
      ],
      "metadata": {
        "colab": {
          "base_uri": "https://localhost:8080/"
        },
        "id": "8M_4WMUlWCDP",
        "outputId": "ae88b710-4483-419c-f44f-c0c1d60589cf"
      },
      "execution_count": 13,
      "outputs": [
        {
          "output_type": "execute_result",
          "data": {
            "text/plain": [
              "5.0"
            ]
          },
          "metadata": {},
          "execution_count": 13
        }
      ]
    },
    {
      "cell_type": "code",
      "source": [
        "p = np.array([3, 0, 1])\n",
        "q = np.array([0, 4, 2])\n",
        "\n",
        "np.linalg.norm(p - q)"
      ],
      "metadata": {
        "colab": {
          "base_uri": "https://localhost:8080/"
        },
        "id": "v52x-TTgXT2m",
        "outputId": "627d1b1f-e727-4099-93a6-29fb8e571d40"
      },
      "execution_count": 14,
      "outputs": [
        {
          "output_type": "execute_result",
          "data": {
            "text/plain": [
              "5.0990195135927845"
            ]
          },
          "metadata": {},
          "execution_count": 14
        }
      ]
    },
    {
      "cell_type": "markdown",
      "source": [
        "Macierze mnozenie ez"
      ],
      "metadata": {
        "id": "Mup_0uyOXsOW"
      }
    },
    {
      "cell_type": "code",
      "source": [
        "X = np.array([[5, 3], [3, 9]])\n",
        "Y = np.array([[1], [-1]])\n",
        "print(X, '\\n')\n",
        "print(Y)"
      ],
      "metadata": {
        "colab": {
          "base_uri": "https://localhost:8080/"
        },
        "id": "OIoPQiaKXjV_",
        "outputId": "f6b65f21-02a1-4b71-bf32-7df497f5c70a"
      },
      "execution_count": 16,
      "outputs": [
        {
          "output_type": "stream",
          "name": "stdout",
          "text": [
            "[[5 3]\n",
            " [3 9]] \n",
            "\n",
            "[[ 1]\n",
            " [-1]]\n"
          ]
        }
      ]
    },
    {
      "cell_type": "code",
      "source": [
        "Z = X.dot( Y)\n",
        "Z"
      ],
      "metadata": {
        "colab": {
          "base_uri": "https://localhost:8080/"
        },
        "id": "REybPizTYfgX",
        "outputId": "7be0e146-bd13-4c0a-9bab-a5f67dffab67"
      },
      "execution_count": 18,
      "outputs": [
        {
          "output_type": "execute_result",
          "data": {
            "text/plain": [
              "array([[ 2],\n",
              "       [-6]])"
            ]
          },
          "metadata": {},
          "execution_count": 18
        }
      ]
    },
    {
      "cell_type": "code",
      "source": [
        "Z.shape"
      ],
      "metadata": {
        "colab": {
          "base_uri": "https://localhost:8080/"
        },
        "id": "c7hPO36bYtOO",
        "outputId": "a94c3bfb-2c3b-4bdc-ccd2-e64e8c85baa9"
      },
      "execution_count": 19,
      "outputs": [
        {
          "output_type": "execute_result",
          "data": {
            "text/plain": [
              "(2, 1)"
            ]
          },
          "metadata": {},
          "execution_count": 19
        }
      ]
    },
    {
      "cell_type": "code",
      "source": [
        "X = np.array([[2, -1 ,3],\n",
        "              [3, 1, 0]])\n",
        "Y = np.array([[2, 1, -1],\n",
        "              [0, -1, 2],\n",
        "              [3, 2, 0]])\n",
        "print(X, '\\n')\n",
        "print(Y)"
      ],
      "metadata": {
        "colab": {
          "base_uri": "https://localhost:8080/"
        },
        "id": "Y5X5KCqBYzvG",
        "outputId": "96a9d22e-e679-46fa-e881-2582baaedc7b"
      },
      "execution_count": 22,
      "outputs": [
        {
          "output_type": "stream",
          "name": "stdout",
          "text": [
            "[[ 2 -1  3]\n",
            " [ 3  1  0]] \n",
            "\n",
            "[[ 2  1 -1]\n",
            " [ 0 -1  2]\n",
            " [ 3  2  0]]\n"
          ]
        }
      ]
    },
    {
      "cell_type": "code",
      "source": [
        "np.dot(X, Y)\n",
        ""
      ],
      "metadata": {
        "colab": {
          "base_uri": "https://localhost:8080/"
        },
        "id": "pq-tLI0oY3VO",
        "outputId": "5b3aba31-8855-43ad-ce6c-50ae48f9f478"
      },
      "execution_count": 25,
      "outputs": [
        {
          "output_type": "execute_result",
          "data": {
            "text/plain": [
              "array([[13,  9, -4],\n",
              "       [ 6,  2, -1]])"
            ]
          },
          "metadata": {},
          "execution_count": 25
        }
      ]
    },
    {
      "cell_type": "markdown",
      "source": [
        "Wyznacznik"
      ],
      "metadata": {
        "id": "T4FmEmZSbXXF"
      }
    },
    {
      "cell_type": "code",
      "source": [
        "A = np.array([[2,4],\n",
        "              [-1, 3]])\n",
        "round(np.linalg.det(A))"
      ],
      "metadata": {
        "colab": {
          "base_uri": "https://localhost:8080/"
        },
        "id": "R-6PBMn0a20u",
        "outputId": "b0a05a0f-4804-4960-e9cd-ab1a0da900be"
      },
      "execution_count": 27,
      "outputs": [
        {
          "output_type": "execute_result",
          "data": {
            "text/plain": [
              "10"
            ]
          },
          "metadata": {},
          "execution_count": 27
        }
      ]
    },
    {
      "cell_type": "code",
      "source": [
        "np.trace(A)"
      ],
      "metadata": {
        "colab": {
          "base_uri": "https://localhost:8080/"
        },
        "id": "Tpvr6JqpcCfW",
        "outputId": "c59c8358-499f-41e8-ce77-bc98aa63d5b7"
      },
      "execution_count": 29,
      "outputs": [
        {
          "output_type": "execute_result",
          "data": {
            "text/plain": [
              "5"
            ]
          },
          "metadata": {},
          "execution_count": 29
        }
      ]
    },
    {
      "cell_type": "code",
      "source": [
        "np.eye(5, dtype='int')"
      ],
      "metadata": {
        "colab": {
          "base_uri": "https://localhost:8080/"
        },
        "id": "2hUxWXEncQgO",
        "outputId": "289edd83-e152-418f-c49a-f4fbb7d50145"
      },
      "execution_count": 31,
      "outputs": [
        {
          "output_type": "execute_result",
          "data": {
            "text/plain": [
              "array([[1, 0, 0, 0, 0],\n",
              "       [0, 1, 0, 0, 0],\n",
              "       [0, 0, 1, 0, 0],\n",
              "       [0, 0, 0, 1, 0],\n",
              "       [0, 0, 0, 0, 1]])"
            ]
          },
          "metadata": {},
          "execution_count": 31
        }
      ]
    },
    {
      "cell_type": "code",
      "source": [
        "A"
      ],
      "metadata": {
        "colab": {
          "base_uri": "https://localhost:8080/"
        },
        "id": "H-ZHKEcuccjN",
        "outputId": "cf5c212a-0149-4b13-8d39-67b09dd86ba7"
      },
      "execution_count": 32,
      "outputs": [
        {
          "output_type": "execute_result",
          "data": {
            "text/plain": [
              "array([[ 2,  4],\n",
              "       [-1,  3]])"
            ]
          },
          "metadata": {},
          "execution_count": 32
        }
      ]
    },
    {
      "cell_type": "code",
      "source": [
        "B = np.linalg.inv(A)\n",
        "B\n"
      ],
      "metadata": {
        "colab": {
          "base_uri": "https://localhost:8080/"
        },
        "id": "IeLwfPh9cwXe",
        "outputId": "d3062133-ca26-4073-cc21-df2edad70e30"
      },
      "execution_count": 34,
      "outputs": [
        {
          "output_type": "execute_result",
          "data": {
            "text/plain": [
              "array([[ 0.3, -0.4],\n",
              "       [ 0.1,  0.2]])"
            ]
          },
          "metadata": {},
          "execution_count": 34
        }
      ]
    },
    {
      "cell_type": "code",
      "source": [
        "np.set_printoptions(precision=4, suppress=True)\n",
        "\n",
        "np.dot(A, B)"
      ],
      "metadata": {
        "colab": {
          "base_uri": "https://localhost:8080/"
        },
        "id": "pr3Mx6noc2CO",
        "outputId": "fc5e1348-8bca-49b4-cdb8-7852dbd424f9"
      },
      "execution_count": 36,
      "outputs": [
        {
          "output_type": "execute_result",
          "data": {
            "text/plain": [
              "array([[1., 0.],\n",
              "       [0., 1.]])"
            ]
          },
          "metadata": {},
          "execution_count": 36
        }
      ]
    },
    {
      "cell_type": "code",
      "source": [
        "np.dot(B, A)"
      ],
      "metadata": {
        "colab": {
          "base_uri": "https://localhost:8080/"
        },
        "id": "DAsn0S_5c5l9",
        "outputId": "cb34bbb0-1150-4de9-f57e-2b490e416197"
      },
      "execution_count": 37,
      "outputs": [
        {
          "output_type": "execute_result",
          "data": {
            "text/plain": [
              "array([[ 1., -0.],\n",
              "       [ 0.,  1.]])"
            ]
          },
          "metadata": {},
          "execution_count": 37
        }
      ]
    },
    {
      "cell_type": "markdown",
      "source": [
        "Maciesz transponowana"
      ],
      "metadata": {
        "id": "hOASvDp3dJIS"
      }
    },
    {
      "cell_type": "code",
      "source": [
        "A"
      ],
      "metadata": {
        "colab": {
          "base_uri": "https://localhost:8080/"
        },
        "id": "reS--9mOdFVl",
        "outputId": "0439be7d-127d-4c2c-a4a7-c822a1d61ab0"
      },
      "execution_count": 38,
      "outputs": [
        {
          "output_type": "execute_result",
          "data": {
            "text/plain": [
              "array([[ 2,  4],\n",
              "       [-1,  3]])"
            ]
          },
          "metadata": {},
          "execution_count": 38
        }
      ]
    },
    {
      "cell_type": "code",
      "source": [
        "np.transpose(A)"
      ],
      "metadata": {
        "colab": {
          "base_uri": "https://localhost:8080/"
        },
        "id": "9cYD7K5DdSoF",
        "outputId": "89f583b3-488e-4b98-8c76-313df66c7dad"
      },
      "execution_count": 39,
      "outputs": [
        {
          "output_type": "execute_result",
          "data": {
            "text/plain": [
              "array([[ 2, -1],\n",
              "       [ 4,  3]])"
            ]
          },
          "metadata": {},
          "execution_count": 39
        }
      ]
    },
    {
      "cell_type": "code",
      "source": [
        "A.T"
      ],
      "metadata": {
        "colab": {
          "base_uri": "https://localhost:8080/"
        },
        "id": "AtoLYkeadVEF",
        "outputId": "47da599f-ae47-4141-e52d-5dbf0d0b170b"
      },
      "execution_count": 40,
      "outputs": [
        {
          "output_type": "execute_result",
          "data": {
            "text/plain": [
              "array([[ 2, -1],\n",
              "       [ 4,  3]])"
            ]
          },
          "metadata": {},
          "execution_count": 40
        }
      ]
    },
    {
      "cell_type": "markdown",
      "source": [
        "uklady rownan"
      ],
      "metadata": {
        "id": "gK78UR1CdfGj"
      }
    },
    {
      "cell_type": "code",
      "source": [
        "A = np.array([[2, 4],\n",
        "              [1, -1]])\n",
        "A"
      ],
      "metadata": {
        "colab": {
          "base_uri": "https://localhost:8080/"
        },
        "id": "XRwc_RthdW0H",
        "outputId": "3cce3910-c6fa-4377-c259-9ca17e4d56c9"
      },
      "execution_count": 41,
      "outputs": [
        {
          "output_type": "execute_result",
          "data": {
            "text/plain": [
              "array([[ 2,  4],\n",
              "       [ 1, -1]])"
            ]
          },
          "metadata": {},
          "execution_count": 41
        }
      ]
    },
    {
      "cell_type": "code",
      "source": [
        "B = np.array([[10],\n",
        "              [-1]])\n",
        "B"
      ],
      "metadata": {
        "colab": {
          "base_uri": "https://localhost:8080/"
        },
        "id": "d1dksk6yeh9m",
        "outputId": "685801d9-8398-4143-cd6f-84e9f11cedca"
      },
      "execution_count": 42,
      "outputs": [
        {
          "output_type": "execute_result",
          "data": {
            "text/plain": [
              "array([[10],\n",
              "       [-1]])"
            ]
          },
          "metadata": {},
          "execution_count": 42
        }
      ]
    },
    {
      "cell_type": "code",
      "source": [
        "A_inv = np.linalg.inv(A)\n",
        "X = np.dot(A_inv, B)"
      ],
      "metadata": {
        "id": "uia7sgjGencu"
      },
      "execution_count": 45,
      "outputs": []
    },
    {
      "cell_type": "code",
      "source": [
        "X"
      ],
      "metadata": {
        "colab": {
          "base_uri": "https://localhost:8080/"
        },
        "id": "NSyQ5fXQetI3",
        "outputId": "886633e9-460e-430b-d3b0-0245d976b4cb"
      },
      "execution_count": 46,
      "outputs": [
        {
          "output_type": "execute_result",
          "data": {
            "text/plain": [
              "array([[1.],\n",
              "       [2.]])"
            ]
          },
          "metadata": {},
          "execution_count": 46
        }
      ]
    },
    {
      "cell_type": "code",
      "source": [
        "X.shape"
      ],
      "metadata": {
        "colab": {
          "base_uri": "https://localhost:8080/"
        },
        "id": "2N7fozL9e2JG",
        "outputId": "c04be039-9ab0-4e9a-d55d-fc602d642d16"
      },
      "execution_count": 47,
      "outputs": [
        {
          "output_type": "execute_result",
          "data": {
            "text/plain": [
              "(2, 1)"
            ]
          },
          "metadata": {},
          "execution_count": 47
        }
      ]
    },
    {
      "cell_type": "code",
      "source": [],
      "metadata": {
        "id": "LYLYGQKJe4VO"
      },
      "execution_count": null,
      "outputs": []
    }
  ]
}